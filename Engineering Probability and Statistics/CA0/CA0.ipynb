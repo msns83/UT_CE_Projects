{
  "nbformat": 4,
  "nbformat_minor": 0,
  "metadata": {
    "colab": {
      "provenance": []
    },
    "kernelspec": {
      "name": "python3",
      "display_name": "Python 3"
    },
    "language_info": {
      "name": "python"
    }
  },
  "cells": [
    {
      "cell_type": "code",
      "source": [
        "!pip install hazm"
      ],
      "metadata": {
        "colab": {
          "base_uri": "https://localhost:8080/"
        },
        "id": "e70Q4dMQJZBj",
        "outputId": "66eb046e-1e2e-454d-b8c7-e6a5858a9e96"
      },
      "execution_count": null,
      "outputs": [
        {
          "output_type": "stream",
          "name": "stdout",
          "text": [
            "Requirement already satisfied: hazm in /usr/local/lib/python3.10/dist-packages (0.9.4)\n",
            "Requirement already satisfied: fasttext-wheel<0.10.0,>=0.9.2 in /usr/local/lib/python3.10/dist-packages (from hazm) (0.9.2)\n",
            "Requirement already satisfied: flashtext<3.0,>=2.7 in /usr/local/lib/python3.10/dist-packages (from hazm) (2.7)\n",
            "Requirement already satisfied: gensim<5.0.0,>=4.3.1 in /usr/local/lib/python3.10/dist-packages (from hazm) (4.3.2)\n",
            "Requirement already satisfied: nltk<4.0.0,>=3.8.1 in /usr/local/lib/python3.10/dist-packages (from hazm) (3.8.1)\n",
            "Requirement already satisfied: numpy==1.24.3 in /usr/local/lib/python3.10/dist-packages (from hazm) (1.24.3)\n",
            "Requirement already satisfied: python-crfsuite<0.10.0,>=0.9.9 in /usr/local/lib/python3.10/dist-packages (from hazm) (0.9.9)\n",
            "Requirement already satisfied: scikit-learn<2.0.0,>=1.2.2 in /usr/local/lib/python3.10/dist-packages (from hazm) (1.2.2)\n",
            "Requirement already satisfied: pybind11>=2.2 in /usr/local/lib/python3.10/dist-packages (from fasttext-wheel<0.10.0,>=0.9.2->hazm) (2.11.1)\n",
            "Requirement already satisfied: setuptools>=0.7.0 in /usr/local/lib/python3.10/dist-packages (from fasttext-wheel<0.10.0,>=0.9.2->hazm) (67.7.2)\n",
            "Requirement already satisfied: scipy>=1.7.0 in /usr/local/lib/python3.10/dist-packages (from gensim<5.0.0,>=4.3.1->hazm) (1.11.3)\n",
            "Requirement already satisfied: smart-open>=1.8.1 in /usr/local/lib/python3.10/dist-packages (from gensim<5.0.0,>=4.3.1->hazm) (6.4.0)\n",
            "Requirement already satisfied: click in /usr/local/lib/python3.10/dist-packages (from nltk<4.0.0,>=3.8.1->hazm) (8.1.7)\n",
            "Requirement already satisfied: joblib in /usr/local/lib/python3.10/dist-packages (from nltk<4.0.0,>=3.8.1->hazm) (1.3.2)\n",
            "Requirement already satisfied: regex>=2021.8.3 in /usr/local/lib/python3.10/dist-packages (from nltk<4.0.0,>=3.8.1->hazm) (2023.6.3)\n",
            "Requirement already satisfied: tqdm in /usr/local/lib/python3.10/dist-packages (from nltk<4.0.0,>=3.8.1->hazm) (4.66.1)\n",
            "Requirement already satisfied: threadpoolctl>=2.0.0 in /usr/local/lib/python3.10/dist-packages (from scikit-learn<2.0.0,>=1.2.2->hazm) (3.2.0)\n"
          ]
        }
      ]
    },
    {
      "cell_type": "code",
      "execution_count": null,
      "metadata": {
        "id": "6BkHPnudcR1x"
      },
      "outputs": [],
      "source": [
        "import numpy as np\n",
        "import pandas as pd\n",
        "import re\n",
        "import math\n",
        "from hazm import *\n",
        "from collections import Counter\n",
        "\n",
        "normalizer = Normalizer()\n",
        "stemmer = Stemmer()\n",
        "lemmatizer = Lemmatizer()\n",
        "\n",
        "dfTrain = pd.read_csv('books_train.csv')\n",
        "dfTest = pd.read_csv('books_test.csv')\n",
        "\n",
        "def cleaning(SentenceList):\n",
        "\n",
        "  removes = ['.', ':', '،', '(',')','«', '»','\"','-','!','[',']', '؛','ـ','*','است','بود','شد','از',',']\n",
        "  signTrans = str.maketrans(\"\", \"\", ''.join(removes))\n",
        "\n",
        "  SentenceList = [item.translate(signTrans) for item in SentenceList]\n",
        "\n",
        "  numberTrans = str.maketrans(\"۰۱۲۳۴۵۶۷۸۹\", \"0123456789\")\n",
        "  SentenceList = [item.translate(numberTrans) for item in SentenceList]\n",
        "  SentenceList = [re.sub(r'\\d', '', item) for item in SentenceList]\n",
        "\n",
        "  SentenceList = [normalizer.normalize(item) for item in SentenceList]\n",
        "\n",
        "  return SentenceList\n",
        "\n",
        "def Lprint(printList):\n",
        "  i= 0\n",
        "  for item in printList:\n",
        "    print(i)\n",
        "    print(item)\n",
        "    print('')\n",
        "    i= i+1\n",
        "\n",
        "def BowMaker(category, wholeWords):\n",
        "    wordsList = word_tokenize(''.join(cleaning(dfTrain[dfTrain['categories'] == category]['description'].tolist())))\n",
        "    wordsList = [lemmatizer.lemmatize(item) for item in wordsList]\n",
        "    wordCounts = Counter(wordsList)\n",
        "    counts = [wordCounts[word] for word in wholeWords]\n",
        "    return counts\n"
      ]
    },
    {
      "cell_type": "code",
      "source": [
        "desTrainList = cleaning(dfTrain['description'].tolist())\n",
        "desTestList = cleaning(dfTest['description'].tolist())\n",
        "\n",
        "wholeText = ''.join(desTrainList)\n",
        "wholeWords = word_tokenize(wholeText)\n",
        "wholeWords = [lemmatizer.lemmatize(item) for item in wholeWords]\n",
        "wholeWords = list(set(wholeWords))"
      ],
      "metadata": {
        "id": "4LvJvKwSVvBA"
      },
      "execution_count": null,
      "outputs": []
    },
    {
      "cell_type": "code",
      "source": [
        "islam = BowMaker('کلیات اسلام', wholeWords)\n",
        "story = BowMaker('داستان کوتاه', wholeWords)\n",
        "novel = BowMaker('رمان', wholeWords)\n",
        "kids = BowMaker('داستان کودک و نوجوانان', wholeWords)\n",
        "job = BowMaker('مدیریت و کسب و کار', wholeWords)\n",
        "sociaty = BowMaker('جامعه‌شناسی', wholeWords)"
      ],
      "metadata": {
        "id": "qYvcZNOowfCP"
      },
      "execution_count": null,
      "outputs": []
    },
    {
      "cell_type": "code",
      "source": [
        "answer = []\n",
        "for typ in dfTest['categories'].tolist() :\n",
        "    if typ == 'کلیات اسلام':\n",
        "        answer.append(1)\n",
        "    elif typ == 'داستان کوتاه':\n",
        "        answer.append(2)\n",
        "    elif typ == 'رمان':\n",
        "        answer.append(3)\n",
        "    elif typ == 'داستان کودک و نوجوانان':\n",
        "        answer.append(4)\n",
        "    elif typ == 'مدیریت و کسب و کار':\n",
        "        answer.append(5)\n",
        "    elif typ == 'جامعه‌شناسی':\n",
        "        answer.append(6)"
      ],
      "metadata": {
        "id": "BVUPp7kvTn4A"
      },
      "execution_count": null,
      "outputs": []
    },
    {
      "cell_type": "code",
      "source": [
        "category1 = []\n",
        "sums = [sum(islam),sum(story),sum(novel),sum(kids),sum(job),sum(sociaty)]\n",
        "\n",
        "for sentence in desTestList:\n",
        "  chance = [[] for _ in range(6)]\n",
        "  words = word_tokenize(sentence)\n",
        "  words = [lemmatizer.lemmatize(item) for item in words]\n",
        "\n",
        "  for word in words:\n",
        "    if word in wholeWords:\n",
        "      indexInWhole = wholeWords.index(word)\n",
        "      if islam[indexInWhole] != 0:\n",
        "        chance[0].append(math.log((islam[indexInWhole])/(sums[0])))\n",
        "      if story[indexInWhole] != 0:\n",
        "        chance[1].append(math.log((story[indexInWhole])/(sums[1])))\n",
        "      if novel[indexInWhole] != 0:\n",
        "        chance[2].append(math.log((novel[indexInWhole])/(sums[2])))\n",
        "      if kids[indexInWhole] != 0:\n",
        "        chance[3].append(math.log((kids[indexInWhole])/(sums[3])))\n",
        "      if job[indexInWhole] != 0:\n",
        "        chance[4].append(math.log((job[indexInWhole])/(sums[4])))\n",
        "      if sociaty[indexInWhole] != 0:\n",
        "        chance[5].append(math.log((sociaty[indexInWhole])/(sums[5])))\n",
        "\n",
        "  chances = [sum(chance_i) for chance_i in chance]\n",
        "  category1.append(chances.index(max(chances))+1)\n",
        "\n",
        "result = [a == b for a, b in zip(answer, category1)]\n",
        "\n",
        "print(category1)\n",
        "print(answer)\n",
        "print((result.count(True)/450)*100)"
      ],
      "metadata": {
        "colab": {
          "base_uri": "https://localhost:8080/"
        },
        "id": "awIe7SXfJHGD",
        "outputId": "72834228-03fc-44d9-a79d-34b1276c6e22"
      },
      "execution_count": null,
      "outputs": [
        {
          "output_type": "stream",
          "name": "stdout",
          "text": [
            "[4, 4, 4, 4, 3, 4, 4, 4, 4, 4, 4, 4, 5, 4, 5, 4, 4, 4, 4, 4, 4, 4, 4, 4, 1, 1, 4, 5, 5, 5, 4, 4, 4, 4, 4, 4, 4, 1, 4, 4, 4, 4, 4, 4, 4, 4, 1, 4, 4, 4, 4, 4, 5, 4, 4, 4, 4, 1, 4, 4, 4, 4, 4, 1, 2, 4, 5, 4, 4, 5, 4, 6, 4, 4, 4, 4, 1, 4, 4, 4, 5, 4, 5, 4, 5, 4, 6, 5, 6, 4, 1, 4, 4, 4, 4, 4, 4, 4, 1, 4, 4, 4, 1, 4, 1, 4, 4, 5, 4, 4, 1, 5, 1, 4, 4, 4, 1, 4, 4, 1, 5, 6, 4, 1, 4, 4, 5, 1, 1, 4, 4, 4, 1, 4, 2, 4, 4, 4, 4, 1, 2, 4, 4, 5, 2, 4, 5, 4, 4, 5, 4, 3, 4, 4, 1, 4, 4, 4, 5, 4, 4, 1, 4, 4, 4, 4, 4, 4, 6, 5, 4, 4, 4, 4, 4, 3, 4, 5, 4, 4, 1, 4, 4, 4, 4, 4, 4, 4, 4, 4, 4, 4, 6, 4, 6, 4, 4, 4, 4, 4, 4, 1, 4, 4, 4, 1, 3, 4, 4, 1, 4, 1, 4, 3, 4, 4, 4, 4, 4, 1, 4, 4, 3, 4, 4, 4, 4, 5, 4, 1, 4, 4, 4, 2, 4, 1, 5, 5, 5, 4, 4, 5, 4, 4, 1, 4, 4, 4, 4, 1, 3, 4, 5, 4, 4, 4, 4, 4, 4, 4, 6, 4, 4, 5, 4, 5, 4, 4, 4, 1, 4, 4, 1, 4, 4, 4, 4, 4, 4, 4, 5, 4, 5, 4, 5, 4, 4, 4, 1, 4, 4, 4, 5, 4, 5, 5, 4, 4, 1, 4, 1, 4, 4, 4, 1, 4, 4, 4, 4, 1, 1, 4, 4, 2, 4, 4, 4, 4, 1, 4, 5, 4, 4, 4, 5, 4, 5, 4, 4, 2, 4, 1, 4, 4, 5, 5, 2, 4, 1, 4, 4, 4, 4, 5, 4, 2, 4, 6, 4, 4, 4, 4, 4, 4, 4, 4, 4, 1, 4, 5, 4, 4, 4, 4, 4, 4, 4, 1, 5, 4, 1, 4, 5, 4, 4, 4, 1, 1, 5, 4, 4, 4, 4, 4, 1, 4, 5, 4, 4, 1, 4, 4, 4, 4, 4, 4, 4, 4, 4, 4, 4, 3, 4, 4, 1, 4, 4, 5, 1, 4, 4, 5, 4, 4, 1, 1, 4, 1, 5, 4, 4, 4, 4, 1, 4, 4, 4, 5, 4, 4, 3, 4, 4, 6, 4, 1, 4, 4, 4, 4, 4, 5, 5, 4, 4, 4, 6, 5, 4, 1]\n",
            "[2, 2, 1, 3, 4, 1, 1, 2, 6, 1, 5, 5, 2, 2, 4, 3, 4, 5, 5, 5, 1, 5, 5, 1, 4, 2, 4, 3, 4, 2, 5, 2, 1, 2, 5, 1, 1, 2, 6, 5, 3, 2, 2, 6, 5, 2, 2, 6, 3, 5, 6, 5, 5, 3, 6, 3, 6, 6, 6, 5, 3, 4, 1, 2, 5, 5, 1, 2, 6, 4, 3, 4, 6, 1, 6, 6, 3, 6, 2, 6, 2, 3, 1, 3, 4, 2, 4, 3, 2, 6, 3, 3, 5, 3, 5, 3, 4, 4, 5, 6, 2, 1, 4, 6, 5, 1, 1, 4, 5, 5, 5, 4, 3, 3, 3, 5, 4, 3, 6, 1, 4, 4, 2, 3, 3, 3, 4, 4, 3, 1, 1, 5, 2, 5, 2, 2, 6, 1, 5, 4, 4, 3, 5, 4, 6, 6, 1, 6, 4, 2, 2, 1, 1, 1, 2, 1, 5, 2, 2, 1, 4, 6, 2, 1, 2, 2, 6, 1, 3, 3, 1, 2, 2, 1, 3, 1, 3, 2, 2, 4, 3, 3, 3, 3, 5, 5, 1, 5, 5, 6, 3, 6, 3, 4, 3, 5, 6, 3, 6, 1, 6, 1, 1, 5, 6, 4, 1, 3, 3, 2, 6, 2, 5, 1, 1, 3, 6, 2, 4, 2, 3, 2, 5, 6, 1, 2, 3, 1, 1, 4, 3, 6, 1, 4, 6, 4, 1, 2, 2, 1, 4, 3, 1, 2, 6, 2, 1, 1, 1, 4, 4, 5, 3, 4, 6, 5, 2, 1, 5, 5, 1, 4, 3, 4, 4, 2, 5, 5, 1, 1, 4, 6, 2, 6, 5, 3, 2, 6, 6, 6, 5, 6, 4, 1, 4, 1, 6, 3, 4, 5, 2, 6, 4, 2, 3, 4, 5, 2, 6, 3, 4, 5, 6, 1, 4, 6, 6, 6, 1, 3, 3, 1, 6, 5, 2, 6, 1, 6, 2, 6, 4, 5, 3, 5, 4, 1, 4, 6, 1, 4, 5, 4, 4, 1, 4, 4, 4, 6, 4, 6, 3, 5, 6, 3, 5, 2, 5, 3, 5, 5, 5, 3, 3, 6, 5, 3, 2, 4, 2, 4, 3, 3, 2, 6, 5, 3, 6, 2, 4, 2, 2, 6, 4, 2, 6, 5, 2, 2, 2, 5, 6, 3, 1, 5, 4, 4, 4, 1, 6, 6, 1, 1, 5, 3, 6, 6, 4, 2, 3, 2, 2, 4, 2, 6, 4, 5, 5, 4, 6, 1, 3, 4, 1, 2, 4, 3, 5, 2, 1, 1, 1, 6, 4, 3, 5, 5, 4, 1, 2, 5, 4, 3, 5, 2, 3, 4, 3, 3, 6, 5, 1, 1, 5, 1, 5, 1, 3, 6, 6, 3]\n",
            "6.222222222222222\n"
          ]
        }
      ]
    },
    {
      "cell_type": "code",
      "source": [
        "category = []\n",
        "a= 0.1\n",
        "sums = [sum(islam),sum(story),sum(novel),sum(kids),sum(job),sum(sociaty)]\n",
        "\n",
        "for sentence in desTestList:\n",
        "  chance = [[] for _ in range(6)]\n",
        "  words = word_tokenize(sentence)\n",
        "  words = [lemmatizer.lemmatize(item) for item in words]\n",
        "  wordsNum = len(words)\n",
        "\n",
        "\n",
        "  for word in words:\n",
        "    if word in wholeWords:\n",
        "      indexInWhole = wholeWords.index(word)\n",
        "      chance[0].append(math.log((islam[indexInWhole]+a)/(sums[0]+a*wordsNum)))\n",
        "      chance[1].append(math.log((story[indexInWhole]+a)/(sums[1]+a*wordsNum)))\n",
        "      chance[2].append(math.log((novel[indexInWhole]+a)/(sums[2]+a*wordsNum)))\n",
        "      chance[3].append(math.log((kids[indexInWhole]+a)/(sums[3]+a*wordsNum)))\n",
        "      chance[4].append(math.log((job[indexInWhole]+a)/(sums[4]+a*wordsNum)))\n",
        "      chance[5].append(math.log((sociaty[indexInWhole]+a)/(sums[5]+a*wordsNum)))\n",
        "\n",
        "  chances = [sum(chance_i) for chance_i in chance]\n",
        "  category.append(chances.index(max(chances))+1)\n",
        "\n",
        "result = [a == b for a, b in zip(answer, category)]\n",
        "\n",
        "print(category)\n",
        "print(answer)\n",
        "print((result.count(True)/450)*100)"
      ],
      "metadata": {
        "colab": {
          "base_uri": "https://localhost:8080/"
        },
        "id": "uV7f6kBeSdWU",
        "outputId": "f7cf20dc-507b-4bec-ec19-d6b0e374d8cd"
      },
      "execution_count": null,
      "outputs": [
        {
          "output_type": "stream",
          "name": "stdout",
          "text": [
            "[2, 2, 1, 3, 4, 6, 1, 2, 6, 1, 5, 5, 3, 2, 2, 3, 3, 5, 5, 5, 4, 5, 5, 6, 4, 2, 4, 3, 4, 2, 5, 2, 1, 2, 6, 1, 1, 2, 6, 5, 3, 1, 3, 6, 5, 2, 2, 5, 3, 5, 6, 6, 5, 3, 6, 2, 6, 6, 6, 5, 2, 4, 1, 2, 6, 5, 1, 2, 6, 4, 3, 4, 6, 1, 6, 2, 2, 6, 2, 6, 4, 2, 1, 3, 4, 2, 4, 3, 2, 6, 2, 3, 5, 3, 5, 3, 4, 3, 5, 6, 2, 1, 4, 6, 5, 1, 1, 4, 5, 5, 5, 6, 4, 3, 3, 5, 4, 3, 6, 1, 4, 4, 3, 3, 3, 2, 4, 2, 3, 1, 1, 6, 2, 5, 4, 3, 6, 1, 5, 2, 4, 3, 5, 4, 6, 6, 1, 6, 3, 2, 3, 4, 6, 6, 2, 1, 5, 3, 2, 1, 2, 6, 2, 1, 2, 2, 6, 1, 3, 3, 1, 2, 2, 1, 3, 1, 2, 2, 2, 4, 3, 3, 3, 3, 5, 5, 1, 5, 5, 6, 3, 6, 1, 3, 3, 5, 6, 3, 6, 1, 5, 6, 1, 5, 6, 4, 1, 3, 3, 2, 6, 2, 5, 6, 1, 2, 6, 2, 3, 2, 2, 2, 5, 6, 1, 6, 3, 1, 1, 2, 3, 6, 2, 4, 2, 4, 1, 2, 4, 1, 2, 3, 1, 3, 6, 2, 1, 1, 1, 3, 4, 5, 3, 4, 6, 5, 3, 1, 5, 5, 1, 4, 3, 4, 5, 3, 5, 5, 1, 6, 4, 6, 2, 6, 5, 3, 2, 3, 6, 6, 5, 6, 4, 1, 4, 1, 6, 3, 4, 5, 2, 6, 4, 2, 3, 4, 6, 3, 6, 2, 4, 5, 6, 1, 4, 1, 5, 6, 1, 2, 3, 1, 6, 5, 2, 6, 6, 6, 2, 6, 4, 5, 2, 5, 4, 1, 4, 6, 1, 4, 5, 4, 3, 1, 4, 4, 3, 6, 4, 6, 3, 5, 6, 4, 5, 2, 6, 3, 5, 5, 5, 3, 3, 6, 5, 5, 2, 4, 2, 4, 3, 3, 3, 3, 5, 3, 6, 2, 4, 2, 2, 6, 4, 5, 6, 5, 2, 4, 3, 5, 6, 3, 2, 5, 4, 4, 4, 1, 6, 6, 1, 1, 5, 3, 6, 6, 4, 2, 3, 2, 2, 4, 3, 6, 2, 5, 5, 4, 6, 1, 2, 4, 1, 3, 4, 2, 5, 2, 1, 1, 6, 5, 4, 2, 5, 5, 4, 1, 3, 5, 4, 3, 6, 2, 2, 3, 3, 3, 6, 5, 1, 1, 5, 1, 5, 1, 2, 2, 6, 3]\n",
            "[2, 2, 1, 3, 4, 1, 1, 2, 6, 1, 5, 5, 2, 2, 4, 3, 4, 5, 5, 5, 1, 5, 5, 1, 4, 2, 4, 3, 4, 2, 5, 2, 1, 2, 5, 1, 1, 2, 6, 5, 3, 2, 2, 6, 5, 2, 2, 6, 3, 5, 6, 5, 5, 3, 6, 3, 6, 6, 6, 5, 3, 4, 1, 2, 5, 5, 1, 2, 6, 4, 3, 4, 6, 1, 6, 6, 3, 6, 2, 6, 2, 3, 1, 3, 4, 2, 4, 3, 2, 6, 3, 3, 5, 3, 5, 3, 4, 4, 5, 6, 2, 1, 4, 6, 5, 1, 1, 4, 5, 5, 5, 4, 3, 3, 3, 5, 4, 3, 6, 1, 4, 4, 2, 3, 3, 3, 4, 4, 3, 1, 1, 5, 2, 5, 2, 2, 6, 1, 5, 4, 4, 3, 5, 4, 6, 6, 1, 6, 4, 2, 2, 1, 1, 1, 2, 1, 5, 2, 2, 1, 4, 6, 2, 1, 2, 2, 6, 1, 3, 3, 1, 2, 2, 1, 3, 1, 3, 2, 2, 4, 3, 3, 3, 3, 5, 5, 1, 5, 5, 6, 3, 6, 3, 4, 3, 5, 6, 3, 6, 1, 6, 1, 1, 5, 6, 4, 1, 3, 3, 2, 6, 2, 5, 1, 1, 3, 6, 2, 4, 2, 3, 2, 5, 6, 1, 2, 3, 1, 1, 4, 3, 6, 1, 4, 6, 4, 1, 2, 2, 1, 4, 3, 1, 2, 6, 2, 1, 1, 1, 4, 4, 5, 3, 4, 6, 5, 2, 1, 5, 5, 1, 4, 3, 4, 4, 2, 5, 5, 1, 1, 4, 6, 2, 6, 5, 3, 2, 6, 6, 6, 5, 6, 4, 1, 4, 1, 6, 3, 4, 5, 2, 6, 4, 2, 3, 4, 5, 2, 6, 3, 4, 5, 6, 1, 4, 6, 6, 6, 1, 3, 3, 1, 6, 5, 2, 6, 1, 6, 2, 6, 4, 5, 3, 5, 4, 1, 4, 6, 1, 4, 5, 4, 4, 1, 4, 4, 4, 6, 4, 6, 3, 5, 6, 3, 5, 2, 5, 3, 5, 5, 5, 3, 3, 6, 5, 3, 2, 4, 2, 4, 3, 3, 2, 6, 5, 3, 6, 2, 4, 2, 2, 6, 4, 2, 6, 5, 2, 2, 2, 5, 6, 3, 1, 5, 4, 4, 4, 1, 6, 6, 1, 1, 5, 3, 6, 6, 4, 2, 3, 2, 2, 4, 2, 6, 4, 5, 5, 4, 6, 1, 3, 4, 1, 2, 4, 3, 5, 2, 1, 1, 1, 6, 4, 3, 5, 5, 4, 1, 2, 5, 4, 3, 5, 2, 3, 4, 3, 3, 6, 5, 1, 1, 5, 1, 5, 1, 3, 6, 6, 3]\n",
            "79.77777777777779\n"
          ]
        }
      ]
    }
  ]
}